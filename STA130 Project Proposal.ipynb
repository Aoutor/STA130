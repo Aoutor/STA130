{
 "cells": [
  {
   "cell_type": "markdown",
   "id": "6e35e6eb",
   "metadata": {},
   "source": [
    "**STA130 Project Proposal - Alexander Zubchenko**"
   ]
  },
  {
   "cell_type": "markdown",
   "id": "074b160e",
   "metadata": {},
   "source": [
    "**Analysis #1**"
   ]
  },
  {
   "cell_type": "markdown",
   "id": "42d29213",
   "metadata": {},
   "source": [
    "***Research Question:*** How does social media exposure affect self-reported levels of wellness, such as mental health and physical health?"
   ]
  },
  {
   "cell_type": "markdown",
   "id": "e92d66f7",
   "metadata": {},
   "source": [
    "Independent variable: \n",
    "- **CONNECTION_social_media_time_per_day**: Measures a participant's daily time on social media in hrs/minutes (Numerical)\n",
    "\n",
    "Measures the daily time spent on social media by a participant in hours or minutes. \n",
    "\n",
    "Wellness Variables:\n",
    "- **WELLNESS_self_rated_physical_health**: Measures self-rated participant's physical health (Numerical)\n",
    "- **WELLNESS_self_rated_mental_health**: Measures self-rated participant's mental health (Numerical)\n",
    "\n",
    "Visualization:\n",
    "\n",
    "**Scatter Plot**: We can visualize the above variables by creating a scatter plot with CONNECTION_social_media_time_per_day on the X-axis and the Y-axis representing a Wellness rating. Through this visualization, we can better observe patterns or trends associated with the two variables and better understand the effects of prolonged social media exposure. \n",
    "\n",
    "***Trend Line***: In a scatter plot, the X-axis will represent time spent on social media per day, and the Y-axis will represent a wellness rating. The generated trendline will show the general direction (upward, downward, constant) between the two variables. Particularly, how the average participants wellness rating changes as exposure to social media increases. \n",
    "\n",
    "**Analysis and Method**: We can use linear regression to analyze the relationship between our independent variable CONNECTION_social_media_time_per_day and a dependant variables (Wellness ratings).\n",
    "\n",
    "**Method Justification**: Linear regression is an appropriate method for this context because it allows us to quantify the relationship between a continuous independent variable (social media usage) and each dependent variable related to wellness. This method will help identify if changes in social media usage are associated with significant changes in wellness.\n",
    "\n",
    "Linear regression model: Y = β0 + β1x\n",
    "\n",
    "Where:\n",
    "Y represents a dependant variable from the following:\n",
    "- WELLNESS_self_rated_physical_health\n",
    "- WELLNESS_self_rated_mental_health\n",
    "- WELLNESS_subjective_happiness_scale_happy\n",
    "\n",
    "X represents **the** independent variable:\n",
    "- CONNECTION_social_media_time_per_day\n",
    "\n",
    "**Assumptions**:\n",
    "\n",
    "1) We will assume that the relationship between time spent on social media and the dependent variables is linear. We will visually check through scatter plots and residual plots.\n",
    "2) We will assume and confirm that the residuals are normally distributed.\n",
    "\n",
    "**Implementation of Method**:\n",
    "1) We begin by setting up our dependant variable (Y) one at a time to better understand their relationship with the independent variable (X).\n",
    "2) We let CONNECTION_social_media_time_per_day be our independent variable / predictor variable.\n",
    "3) Import our data and fit the linear regression model using Jupyter Hub and assess the coefficients.\n",
    "\n",
    "**Hypothesis**:\n",
    "\n",
    "To answer our research question, we want to determine whether prolonged exposure to social media increases, decreases, or has no effect on participant's wellness. To better understand this, we can look towards the coefficient of the independent variable β1. \n",
    "\n",
    "If β1 is positive and the associated p-value is less than 0.05, it suggests there's a positive relationship between the two variables. When the independent variable increases (exposure to social media) so does the dependant variable. In this, a positive β1 would indicate that an increasing exposure to social media causes decreasing physical and mental health.\n",
    "\n",
    "Alternatively, if β1 is negative and the p-value is less than 0.05, implies that more time spent on social media is associated with increasing mental and physical health.\n",
    "\n",
    "If β1 is approximately equal to zero and the p-value is greater than 0.05, it suggests that social media exposure does not have a significant effect on physical or mental health.\n",
    "\n",
    "β1 > 0 with p < 0.05: Social media exposure leads to an decrease in physical and mental health\n",
    "\n",
    "β1 < 0 with p < 0.05: Social media exposure leads to a increase in physical and mental health\n",
    "\n",
    "β1 = 0 with p > 0.05: Social media exposure does not have an affect on physical and mental health"
   ]
  },
  {
   "cell_type": "markdown",
   "id": "c0d7b0dc",
   "metadata": {},
   "source": [
    "**Analysis #2**"
   ]
  },
  {
   "cell_type": "markdown",
   "id": "3476aa4f",
   "metadata": {},
   "source": [
    "**Research Question:** How do perceptions of control, and fairness at work influence self-rated mental and physical health?"
   ]
  },
  {
   "cell_type": "markdown",
   "id": "e5c95088",
   "metadata": {},
   "source": [
    "Independent Variables:\n",
    "- **WORK_feel_fair**: Evaluates if participants feel they are treated fairly at work. This variable is categorical, with four levels: \"Completely,\" \"Very well,\" \"Somewhat,\" and \"Very Little.\" Since it is not continuous, we must approach the analysis by comparing groups rather than fitting a linear regression model as done in analysis #1\n",
    "\n",
    "Wellness Variables:\n",
    "- **WELLNESS_self_rated_physical_health**: Reflects participant's assessment of their own physical health. (Numerical)\n",
    "- **WELLNESS_self_rated_mental_health**: Indicates participant's perception of their own mental health. (Numerical)\n",
    "\n",
    "**Visualization**\n",
    "\n",
    "Box plots can be used to visualize the relationship between perceived workplace fairness and self-rated health by displaying the distribution, median, and variability of wellness ratings. By plotting WELLNESS_self_rated_physical_health and WELLNESS_self_rated_mental_health averages for different categories of WORK_feel_fair (\"Completely,\" \"Very well,\" \"Somewhat,\" and \"Very Little\"), we can compare how these perceptions influence health outcomes. Higher medians and smaller ranges in the box plots for greater control or fairness suggest better and more consistent health ratings, while lower medians or wider ranges indicate poorer or more varied health experiences.\n",
    "\n",
    "**Analysis and method**:\n",
    "\n",
    "Unlike Analysis #1, our independant variable is **Categorical** and non-numerical. Therefore, analysis of variance (ANOVA) can be used to assess the difference in wellness ratings (Physical and Mental health) across the four categories of workplace fairness. This method works well in the context of our research question as it allows us to compare means across groups where the independent variable is categorical.\n",
    "\n",
    "**Method justification**:\n",
    "\n",
    "ANOVA is a great method for this analysis because it shows us whether there are significant differneces in the mean wellness ratings (Physical and mental health) based on our four categories of WORK_feel_fair. In other words, by comparing mean wellness ratings across different categories of workplace fairness, we ccan identify whether perceptions of fairness at work are associated with changes in physical and mental health ratings.\n",
    "\n",
    "**Model**:\n",
    "\n",
    "Y = μ + τi + ε\n",
    "\n",
    "Where:\n",
    "Y represents a dependant variable from the following:\n",
    "- **WELLNESS_self_rated_physical_health**: Reflects participant's assessment of their own physical health. (Numerical)\n",
    "- **WELLNESS_self_rated_mental_health**: Indicates participant's perception of their own mental health. (Numerical)\n",
    "\n",
    "μ = the overall mean wellness rating.\n",
    "τi = the effect of the i-th level of WORK_feel_fair.\n",
    "ε = error term\n",
    "\n",
    "**Assumptions**:\n",
    "\n",
    "1) The dependent variable (wellness ratings) are normally distributed within each group defined by WORK_feel_fair.\n",
    "\n",
    "**Implementation of Method**:\n",
    "\n",
    "1) Use the four categories of WORK_feel_fair as the independent variable.\n",
    "2) Import the data and conduct analysis of variance (ANOVA) with Jupyter Hub, checking for significant differences in wellness ratings across different categries.\n",
    "\n",
    "**Hypothesis**: To answer our research question, we want to determine whether perceptions of fairness at work are associated with changes in mental and physical health ratings.\n",
    "\n",
    "**Null Hypothesis**: There are no significant differences in the means of wellness ratings (both physical and mental health) across the category of WORK_feel_fair (\"Completely,\" \"Very well,\" \"Somewhat,\" and \"Very Little\").\n",
    "\n",
    "**Alternative Hypothesis**: At least one mean wellness rating is significantly different from the others across the categories of WORK_feel_fair. \n",
    "\n",
    "If the p-value from the test is less than 0.05, it suggests that at least one category mean (wellness rating) is significantly different from the others. This would indicate that perceptions of fairness at work do influence self-rated mental and physical health.\n",
    "If the p-value is greater than 0.05, it suggests that perceptions of fairness do not have a significant effect on physical or mental health ratings.\n",
    "\n",
    "p < 0.05: At least one level of WORK_feel_fair is associated with a significant difference in wellness ratings.\n",
    "\n",
    "p >= 0.05: Perceptions of workplace fairness do not significantly influence wellness ratings.\n"
   ]
  },
  {
   "cell_type": "markdown",
   "id": "0ab6e88c",
   "metadata": {},
   "source": [
    "**Analysis #3**"
   ]
  },
  {
   "cell_type": "markdown",
   "id": "a1169a25",
   "metadata": {},
   "source": [
    "**Research Question:** What is the effect of age on household income, and at what age range is household income typically at its peak?"
   ]
  },
  {
   "cell_type": "markdown",
   "id": "33c4e148",
   "metadata": {},
   "source": [
    "Key Variables:\n",
    "\n",
    "Independent Variable:\n",
    "- DEMO_age: Represents the age of a participant (numerical)\n",
    "\n",
    "Household Income:\n",
    "- DEMO_household_income: Represents the household income of a participant (Numerical)\n",
    "\n",
    "**Visualization**:\n",
    "\n",
    "**Histogram**: helps visualize the frequency of participants within specific age ranges (bins). This method provides insights into the age demographics of the sample, showing where concentrations of ages are, and how the data is spread across the age spectrum. Similarly, the a histogram can be used to visualize household incomes of the sample, showing the concentration of certain household incomes.\n",
    "\n",
    "**Analysis Method**:\n",
    "\n",
    "We will use bootstrapping to form a confidence interval for the mean household income based on different age categories. Within a certain age group, we will sample household incoems with Replacement.\n",
    "\n",
    "**Implementation of Method**:\n",
    "- Divide our sample into various age ranges, (e.g., 18-24, 25-34, 35-44, etc...)\n",
    "1) Randomly sample with replacement from the DEMO_household_income data for a specified number of iterations (e.g., 1,000).\n",
    "2) Calculate the mean income for each bootstrap sample\n",
    "3) Construct a 95% confidence interval from the distribution of the bootstrap means.\n",
    "\n",
    "**Comparison of Confidence Intervals & Hypothesis**:\n",
    "\n",
    "1) We then review the confidence intervals' ranges ( the difference between the upper and lower bounds) to identify which age group has the widest interval, indicating greater uncertainty in the estimate of household income. Conversely, the narrowest interval signifies a more precise estimate for that age group.\n",
    "2) Identify the age group with the highest mean income.\n",
    "3) Compare the confidence intervals to find whether this peak income is significant. If the confidence intervals for this peak income group does not overlap with those of other age groups, it provides stronger evidence that the peak income is distinct.\n",
    "\n",
    "If we can determine a confidence interval for a specific age group which does not overlap with the others, and has a higher lower and upper bound than others, we have strong evidence to believe that there *IS* an effect of age on household income, and can identify an age group with average the peak household income."
   ]
  },
  {
   "cell_type": "code",
   "execution_count": null,
   "id": "c5257efa",
   "metadata": {},
   "outputs": [],
   "source": []
  }
 ],
 "metadata": {
  "kernelspec": {
   "display_name": "Python 3 (ipykernel)",
   "language": "python",
   "name": "python3"
  },
  "language_info": {
   "codemirror_mode": {
    "name": "ipython",
    "version": 3
   },
   "file_extension": ".py",
   "mimetype": "text/x-python",
   "name": "python",
   "nbconvert_exporter": "python",
   "pygments_lexer": "ipython3",
   "version": "3.11.6"
  }
 },
 "nbformat": 4,
 "nbformat_minor": 5
}
